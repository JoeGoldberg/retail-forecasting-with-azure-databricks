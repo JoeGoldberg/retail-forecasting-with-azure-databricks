{
 "cells": [
  {
   "cell_type": "code",
   "execution_count": 0,
   "metadata": {
    "application/vnd.databricks.v1+cell": {
     "cellMetadata": {},
     "collapsed": true,
     "inputWidgets": {},
     "nuid": "48dbf46e-57aa-4754-b5e7-3b7b79ee932a",
     "showTitle": false,
     "title": ""
    }
   },
   "outputs": [],
   "source": [
    "#df = spark.read.format('parquet').options(header=True,inferSchema=True).load(\"dbfs:/FileStore/tables/RandomForestRegressorInventory_tests_preds.parquet\")\n",
    "#df.show(1000)\n",
    "\n",
    "df1 = spark.read.format('parquet').options(header=True,inferSchema=True).load(\"dbfs:/FileStore/tables/RandomForestRegressorPOS_tests_preds.parquet\")\n",
    "df1.show(1000)\n",
    "\n",
    "#df1.write.csv(\"dbfs:/FileStore/tables/RandomForestRegressorPOS_tests_preds.csv\")"
   ]
  }
 ],
 "metadata": {
  "application/vnd.databricks.v1+notebook": {
   "dashboards": [],
   "environmentMetadata": null,
   "language": "python",
   "notebookMetadata": {
    "pythonIndentUnit": 4
   },
   "notebookName": "ParquetDisplay",
   "widgets": {}
  }
 },
 "nbformat": 4,
 "nbformat_minor": 0
}
