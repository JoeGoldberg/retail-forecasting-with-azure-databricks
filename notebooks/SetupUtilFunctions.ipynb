{
 "cells": [
  {
   "cell_type": "code",
   "execution_count": 0,
   "metadata": {
    "application/vnd.databricks.v1+cell": {
     "cellMetadata": {},
     "inputWidgets": {},
     "nuid": "53e6953b-1763-4a58-9609-4aa02aeea815",
     "showTitle": false,
     "title": ""
    }
   },
   "outputs": [],
   "source": [
    "%run ./AllImports"
   ]
  },
  {
   "cell_type": "code",
   "execution_count": 0,
   "metadata": {
    "application/vnd.databricks.v1+cell": {
     "cellMetadata": {},
     "inputWidgets": {},
     "nuid": "1f610b21-712b-4cbc-98e7-3cd28d7dac82",
     "showTitle": false,
     "title": ""
    }
   },
   "outputs": [],
   "source": [
    "def monToMonthText(m):\n",
    "    if m == 1:\n",
    "        return \"Jan\"\n",
    "    if m == 2:\n",
    "        return \"Feb\"\n",
    "    if m == 3:\n",
    "        return \"Mar\"\n",
    "    if m == 4:\n",
    "        return \"Apr\"\n",
    "    if m == 5:\n",
    "        return \"May\"\n",
    "    if m == 6:\n",
    "        return \"Jun\"\n",
    "    if m == 7:\n",
    "        return \"Jul\"\n",
    "    if m == 8:\n",
    "        return \"Aug\"\n",
    "    if m == 9:\n",
    "        return \"Sept\"\n",
    "    if m == 10:\n",
    "        return \"Oct\"\n",
    "    if m == 11:\n",
    "        return \"Nov\"\n",
    "    if m == 12:\n",
    "        return \"Dec\"\n",
    "\n",
    "def monToQtr(m):\n",
    "    if m >= 1 and m <= 3:\n",
    "        return \"Q1\"\n",
    "    if m >= 4 and m <= 6:\n",
    "        return \"Q2\"\n",
    "    if m >= 7 and m <= 9:\n",
    "        return \"Q3\"\n",
    "    if m >= 10 and m <= 12:\n",
    "        return \"Q4\"\n",
    "\n",
    "def timeOfDay(hour_int):\n",
    "    if hour_int>=6 and hour_int<=10:\n",
    "        tod=\"Morning\"\n",
    "    if hour_int>=11 and hour_int<=14:\n",
    "        tod=\"Mid Day\"\n",
    "    if hour_int>=14 and hour_int<=18:\n",
    "        tod=\"Afternoon\"\n",
    "    if hour_int>=19 and hour_int<=22:\n",
    "        tod=\"Evening\"\n",
    "    return tod\n",
    "\n",
    "getMonth = udf(lambda x: monToMonthText(x), StringType())\n",
    "getQtr = udf(lambda x: monToQtr(x), StringType())\n",
    "getTimeOfDay = udf(lambda x: timeOfDay(x), StringType())\n",
    "\n",
    "\n",
    "def extract_feature_imp(feature_imp, dataset, features_col):\n",
    "    list_extract = []\n",
    "    for i in dataset.schema[features_col].metadata[\"ml_attr\"][\"attrs\"]:\n",
    "        list_extract = list_extract + dataset.schema[features_col].metadata[\"ml_attr\"][\"attrs\"][i]\n",
    "    feature_list = pd.DataFrame(list_extract)\n",
    "    feature_list['score'] = feature_list['idx'].apply(lambda x: feature_imp[x])\n",
    "    return(feature_list.sort_values('score', ascending = False))\n",
    "\n"
   ]
  }
 ],
 "metadata": {
  "application/vnd.databricks.v1+notebook": {
   "dashboards": [],
   "environmentMetadata": null,
   "language": "python",
   "notebookMetadata": {
    "pythonIndentUnit": 4
   },
   "notebookName": "SetupUtilFunctions",
   "widgets": {}
  }
 },
 "nbformat": 4,
 "nbformat_minor": 0
}
