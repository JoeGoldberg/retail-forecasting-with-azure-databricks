{
 "cells": [
  {
   "cell_type": "code",
   "execution_count": 0,
   "metadata": {
    "application/vnd.databricks.v1+cell": {
     "cellMetadata": {},
     "inputWidgets": {},
     "nuid": "6b0ffdfb-8aee-40d1-9e37-3af3fdb8a9fc",
     "showTitle": false,
     "title": ""
    }
   },
   "outputs": [],
   "source": [
    "%run ./RemoveNullColumnsInventory"
   ]
  },
  {
   "cell_type": "code",
   "execution_count": 0,
   "metadata": {
    "application/vnd.databricks.v1+cell": {
     "cellMetadata": {},
     "inputWidgets": {},
     "nuid": "7d509242-60e3-47c2-b5b9-6e58c738641b",
     "showTitle": false,
     "title": ""
    }
   },
   "outputs": [],
   "source": [
    "# Remove Rows with Null Values in Certain Columns\n",
    "df222 = df22.dropDuplicates([\"SKU\", \"ProductName\", \"StoreID\", \"SupplierID\"])"
   ]
  }
 ],
 "metadata": {
  "application/vnd.databricks.v1+notebook": {
   "dashboards": [],
   "environmentMetadata": null,
   "language": "python",
   "notebookMetadata": {},
   "notebookName": "RemoveDuplicateRowsInventory",
   "widgets": {}
  }
 },
 "nbformat": 4,
 "nbformat_minor": 0
}
