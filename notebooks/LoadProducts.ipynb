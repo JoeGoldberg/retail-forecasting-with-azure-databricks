{
 "cells": [
  {
   "cell_type": "code",
   "execution_count": 0,
   "metadata": {
    "application/vnd.databricks.v1+cell": {
     "cellMetadata": {},
     "inputWidgets": {},
     "nuid": "d2b39a25-10c9-43ed-8ee2-c3f0ffbf1560",
     "showTitle": false,
     "title": ""
    }
   },
   "outputs": [],
   "source": [
    "df4=spark.read.format(\"csv\").option(\"header\", \"true\").option(\"inferSchema\", \"true\").load(\"dbfs:/FileStore/tables/Product.csv\")"
   ]
  }
 ],
 "metadata": {
  "application/vnd.databricks.v1+notebook": {
   "dashboards": [],
   "environmentMetadata": null,
   "language": "python",
   "notebookMetadata": {},
   "notebookName": "LoadProducts",
   "widgets": {}
  }
 },
 "nbformat": 4,
 "nbformat_minor": 0
}
