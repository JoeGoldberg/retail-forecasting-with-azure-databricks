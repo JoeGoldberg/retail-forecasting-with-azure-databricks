{
 "cells": [
  {
   "cell_type": "code",
   "execution_count": 0,
   "metadata": {
    "application/vnd.databricks.v1+cell": {
     "cellMetadata": {},
     "inputWidgets": {},
     "nuid": "10aac967-89f5-4e6a-8773-99158c026203",
     "showTitle": false,
     "title": ""
    }
   },
   "outputs": [],
   "source": [
    "df5=spark.read.format(\"csv\").option(\"header\", \"true\").option(\"inferSchema\", \"true\").load(\"dbfs:/FileStore/tables/Store.csv\")"
   ]
  }
 ],
 "metadata": {
  "application/vnd.databricks.v1+notebook": {
   "dashboards": [],
   "environmentMetadata": null,
   "language": "python",
   "notebookMetadata": {},
   "notebookName": "LoadStores",
   "widgets": {}
  }
 },
 "nbformat": 4,
 "nbformat_minor": 0
}
