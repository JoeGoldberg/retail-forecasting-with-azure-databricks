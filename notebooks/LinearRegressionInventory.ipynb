{
 "cells": [
  {
   "cell_type": "code",
   "execution_count": 0,
   "metadata": {
    "application/vnd.databricks.v1+cell": {
     "cellMetadata": {},
     "inputWidgets": {},
     "nuid": "a736b236-2465-42cf-bd1b-41c33f25edb4",
     "showTitle": false,
     "title": ""
    }
   },
   "outputs": [],
   "source": [
    "%run ./AllImports"
   ]
  },
  {
   "cell_type": "code",
   "execution_count": 0,
   "metadata": {
    "application/vnd.databricks.v1+cell": {
     "cellMetadata": {},
     "inputWidgets": {},
     "nuid": "d3a3e59b-b6ed-4c98-904e-4cf9fc5da472",
     "showTitle": false,
     "title": ""
    }
   },
   "outputs": [],
   "source": [
    "%run ./EnrichSupplyChain"
   ]
  },
  {
   "cell_type": "code",
   "execution_count": 0,
   "metadata": {
    "application/vnd.databricks.v1+cell": {
     "cellMetadata": {},
     "inputWidgets": {},
     "nuid": "f0f3bbf4-ee94-4977-b1fb-23dff128dca2",
     "showTitle": false,
     "title": ""
    }
   },
   "outputs": [],
   "source": [
    "#Linear Regression Inventory\n",
    "cat_cols = [\"Category\", \"StoreID\", \"SupplierID\", \"LocationID\", \"Region\", \"State\", \"Zip\", \"ProductName\"]\n",
    "stages = []\n",
    "\n",
    "for c in cat_cols:\n",
    "\tstringIndexer = StringIndexer(inputCol=c, outputCol=c + \"_index\")\n",
    "\tencoder = OneHotEncoder(inputCols=[stringIndexer.getOutputCol()],outputCols=[c + \"_vec\"])\n",
    "\tstages += [stringIndexer, encoder]\n",
    "\n",
    "\n",
    "# Transform all features into a vector\n",
    "num_cols = [\"Costs\", \"ProductionVolumes\"]\n",
    "assemblerInputs = [c + \"_vec\" for c in cat_cols] + num_cols\n",
    "assembler = VectorAssembler(inputCols=assemblerInputs, outputCol=\"features\")\n",
    "stages += [assembler]\n",
    "\n",
    "# Create pipeline and use on dataset\n",
    "pipeline = Pipeline(stages=stages)\n",
    "df3_x = pipeline.fit(enrichedSupplyChain1).transform(enrichedSupplyChain1)\n",
    "\n",
    "\n",
    "train, test = df3_x.randomSplit([0.90, 0.10], seed=1234567)\n",
    "\n",
    "\n",
    "# Fit scaler to train dataset\n",
    "scaler = StandardScaler().setInputCol('features').setOutputCol('scaled_features')\n",
    "scaler_model = scaler.fit(train)\n",
    "\n",
    "# Scale train and test features\n",
    "train = scaler_model.transform(train)\n",
    "test = scaler_model.transform(test)\n",
    "\n",
    "\n",
    "lr = LinearRegression(featuresCol='scaled_features', labelCol='NumberOfProductsSold')\n",
    "lr_model = lr.fit(train)\n",
    "\n",
    "train_predictions = lr_model.transform(train)\n",
    "test_predictions = lr_model.transform(test)\n",
    "print(test_predictions)\n",
    "\n",
    "evaluator = RegressionEvaluator(predictionCol=\"prediction\", labelCol=\"NumberOfProductsSold\", metricName=\"r2\")\n",
    "evaluator1 = RegressionEvaluator(predictionCol=\"prediction\", labelCol=\"NumberOfProductsSold\", metricName=\"mae\")\n",
    "evaluator2 = RegressionEvaluator(predictionCol=\"prediction\", labelCol=\"NumberOfProductsSold\", metricName=\"rmse\")\n",
    "\n",
    "print(\"Train R2:\", evaluator.evaluate(train_predictions))\n",
    "print(\"Test R2:\", evaluator.evaluate(test_predictions))\n",
    "\n",
    "print(\"Train MAE:\", evaluator1.evaluate(train_predictions))\n",
    "print(\"Test MAE:\", evaluator1.evaluate(test_predictions))\n",
    "\n",
    "print(\"Train RMSE:\", evaluator2.evaluate(train_predictions))\n",
    "print(\"Test RMSE:\", evaluator2.evaluate(test_predictions))\n",
    "\n",
    "\n",
    "print(\"Coefficients: \" + str(lr_model.coefficients))\n",
    "print(\"Intercept: \" + str(lr_model.intercept))\n",
    "\n",
    "list_extract = []\n",
    "for i in df3_x.schema['features'].metadata[\"ml_attr\"][\"attrs\"]:\n",
    "    list_extract = list_extract + df3_x.schema['features'].metadata[\"ml_attr\"][\"attrs\"][i]\n",
    "\n",
    "varlist = pd.DataFrame(list_extract)\n",
    "varlist['weight'] = varlist['idx'].apply(lambda x: lr_model.coefficients[x])\n",
    "weights = varlist.sort_values('weight', ascending = False)\n",
    "weights.to_csv('/dbfs/FileStore/tables/LinearRegressionInventory_Weights.csv', index=False)"
   ]
  }
 ],
 "metadata": {
  "application/vnd.databricks.v1+notebook": {
   "dashboards": [],
   "environmentMetadata": null,
   "language": "python",
   "notebookMetadata": {},
   "notebookName": "LinearRegressionInventory",
   "widgets": {}
  }
 },
 "nbformat": 4,
 "nbformat_minor": 0
}
