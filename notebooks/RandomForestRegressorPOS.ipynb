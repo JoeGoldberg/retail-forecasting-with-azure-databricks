{
 "cells": [
  {
   "cell_type": "code",
   "execution_count": 0,
   "metadata": {
    "application/vnd.databricks.v1+cell": {
     "cellMetadata": {},
     "inputWidgets": {},
     "nuid": "7fc32a29-ee8f-4735-bfb7-bcc750ed247f",
     "showTitle": false,
     "title": ""
    }
   },
   "outputs": [],
   "source": [
    "%run ./AllImports"
   ]
  },
  {
   "cell_type": "code",
   "execution_count": 0,
   "metadata": {
    "application/vnd.databricks.v1+cell": {
     "cellMetadata": {},
     "inputWidgets": {},
     "nuid": "fe2147ee-2a52-40da-9655-5f989634040d",
     "showTitle": false,
     "title": ""
    }
   },
   "outputs": [],
   "source": [
    "%run ./SetupUtilFunctions"
   ]
  },
  {
   "cell_type": "code",
   "execution_count": 0,
   "metadata": {
    "application/vnd.databricks.v1+cell": {
     "cellMetadata": {},
     "inputWidgets": {},
     "nuid": "6398da1f-0af7-46c5-9dd7-ecced9ddd4e5",
     "showTitle": false,
     "title": ""
    }
   },
   "outputs": [],
   "source": [
    "%run ./EnrichPOSData"
   ]
  },
  {
   "cell_type": "code",
   "execution_count": 0,
   "metadata": {
    "application/vnd.databricks.v1+cell": {
     "cellMetadata": {},
     "inputWidgets": {},
     "nuid": "53aac295-bd59-474a-a7dc-ba32fc4e49bb",
     "showTitle": false,
     "title": ""
    }
   },
   "outputs": [],
   "source": [
    "enrichedPOSStep2.show(10)"
   ]
  },
  {
   "cell_type": "code",
   "execution_count": 0,
   "metadata": {
    "application/vnd.databricks.v1+cell": {
     "cellMetadata": {},
     "inputWidgets": {},
     "nuid": "79a2cdf5-a2e7-402d-b471-f495eaaf54ea",
     "showTitle": false,
     "title": ""
    }
   },
   "outputs": [],
   "source": [
    "#RandomForestRegressor - POS Prediction\n",
    "cat_cols = [\"SKU\", \"Category\", \"StoreID\", \"Year\", \"Mon\", \"Qtr\", \"HourOfDay\", \"DayOfWeek\", \"Location\", \"Region\", \"State\", \"Zip\"]\n",
    "stages = []\n",
    "\n",
    "for c in cat_cols:\n",
    "\tstringIndexer = StringIndexer(inputCol=c, outputCol=c + \"_index\")\n",
    "\tencoder = OneHotEncoder(inputCols=[stringIndexer.getOutputCol()],outputCols=[c + \"_vec\"])\n",
    "\tstages += [stringIndexer, encoder]\n",
    "\n",
    "\n",
    "# Transform all features into a vector\n",
    "num_cols = []\n",
    "assemblerInputs = [c + \"_vec\" for c in cat_cols] + num_cols\n",
    "assembler = VectorAssembler(inputCols=assemblerInputs, outputCol=\"features\")\n",
    "stages += [assembler]\n",
    "\n",
    "# Create pipeline and use on dataset\n",
    "pipeline = Pipeline(stages=stages)\n",
    "df1_x = pipeline.fit(enrichedPOSStep2).transform(enrichedPOSStep2)\n",
    "\n",
    "train, test = df1_x.randomSplit([0.80, 0.20], seed=12345)\n",
    "\n",
    "rf = RandomForestRegressor(featuresCol='features', labelCol='Quantity')\n",
    "rf_model = rf.fit(train)\n",
    "\n",
    "train_predictions = rf_model.transform(train)\n",
    "\n",
    "test_preds = rf_model.transform(test)\n",
    "\n",
    "print(test_preds)\n",
    "\n",
    "#test_preds.select(\"Category\", \"StoreID\", \"SupplierID\", \"LocationID\", \"Region\", \"State\", \"Zip\", \"ProductName\", \"prediction\").write.mode(\"overwrite\").csv(\"///G://My Drive//Sumit_Consulting//2023//Clients//BMC//Project2//HandsOnProj1//Code//SumitData//RandomForestRegressorInventory_tests_preds.csv\")\n",
    "test_preds.write.mode(\"overwrite\").parquet(\"dbfs:/FileStore/tables/RandomForestRegressorPOS_tests_preds.parquet\")\n",
    "\n",
    "\n",
    "feature_list = extract_feature_imp(rf_model.featureImportances, train, \"features\")\n",
    "top_20_features = feature_list.sort_values('score', ascending = False).head(20)\n",
    "#*** NEED TO CORRECT THIS\n",
    "top_20_features.to_csv('/dbfs/FileStore/tables/RandomForestRegressorPOS_Top20Features.csv', index=False)\n",
    "\n",
    "# Then make your desired plot function to visualize feature importance\n",
    "#plot_feature_importance(top_20_features['score'], top_20_features['name'])\n",
    "\n",
    "\n",
    "# Evaluation\n",
    "evaluator1 = RegressionEvaluator(predictionCol=\"prediction\",  labelCol='Quantity', metricName=\"r2\")\n",
    "print(\"Train R2:\", evaluator1.evaluate(train_predictions))\n",
    "print(\"Test R2:\", evaluator1.evaluate(test_preds))\n",
    "\n",
    "\n",
    "evaluator2 = RegressionEvaluator(predictionCol=\"prediction\",  labelCol='Quantity', metricName=\"mae\")\n",
    "print(\"Train mae:\", evaluator2.evaluate(train_predictions))\n",
    "print(\"Test mae:\", evaluator2.evaluate(test_preds))\n",
    "\n",
    "evaluator3 = RegressionEvaluator(predictionCol=\"prediction\",  labelCol='Quantity', metricName=\"rmse\")\n",
    "print(\"Train RMSE:\", evaluator3.evaluate(train_predictions))\n",
    "print(\"Test RMSE:\", evaluator3.evaluate(test_preds))"
   ]
  }
 ],
 "metadata": {
  "application/vnd.databricks.v1+notebook": {
   "dashboards": [],
   "environmentMetadata": null,
   "language": "python",
   "notebookMetadata": {},
   "notebookName": "RandomForestRegressorPOS",
   "widgets": {}
  }
 },
 "nbformat": 4,
 "nbformat_minor": 0
}
