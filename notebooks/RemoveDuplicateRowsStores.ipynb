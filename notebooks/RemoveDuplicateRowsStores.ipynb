{
 "cells": [
  {
   "cell_type": "code",
   "execution_count": 0,
   "metadata": {
    "application/vnd.databricks.v1+cell": {
     "cellMetadata": {},
     "inputWidgets": {},
     "nuid": "5271a9ee-5fc6-4ab2-8ab1-3dcc504ab76d",
     "showTitle": false,
     "title": ""
    }
   },
   "outputs": [],
   "source": [
    "%run ./RemoveNullColumnsStore"
   ]
  },
  {
   "cell_type": "code",
   "execution_count": 0,
   "metadata": {
    "application/vnd.databricks.v1+cell": {
     "cellMetadata": {},
     "inputWidgets": {},
     "nuid": "4af0a36a-321e-4a5f-a374-3a6cc62466ea",
     "showTitle": false,
     "title": ""
    }
   },
   "outputs": [],
   "source": [
    "# Remove Rows with Null Values in Certain Columns\n",
    "df555 = df55.dropDuplicates([\"StoreID\", \"LocationID\", \"Address\"])"
   ]
  }
 ],
 "metadata": {
  "application/vnd.databricks.v1+notebook": {
   "dashboards": [],
   "environmentMetadata": null,
   "language": "python",
   "notebookMetadata": {},
   "notebookName": "RemoveDuplicateRowsStores",
   "widgets": {}
  }
 },
 "nbformat": 4,
 "nbformat_minor": 0
}
