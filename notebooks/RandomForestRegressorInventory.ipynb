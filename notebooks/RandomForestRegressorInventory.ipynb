{
 "cells": [
  {
   "cell_type": "code",
   "execution_count": 0,
   "metadata": {
    "application/vnd.databricks.v1+cell": {
     "cellMetadata": {},
     "inputWidgets": {},
     "nuid": "6439d7b0-16af-492a-b62f-3b5a0cf90cc6",
     "showTitle": false,
     "title": ""
    }
   },
   "outputs": [],
   "source": [
    "%run ./AllImports"
   ]
  },
  {
   "cell_type": "code",
   "execution_count": 0,
   "metadata": {
    "application/vnd.databricks.v1+cell": {
     "cellMetadata": {},
     "inputWidgets": {},
     "nuid": "8766800a-d8b0-4e24-a998-851c1ae4f935",
     "showTitle": false,
     "title": ""
    }
   },
   "outputs": [],
   "source": [
    "%run ./EnrichSupplyChain"
   ]
  },
  {
   "cell_type": "code",
   "execution_count": 0,
   "metadata": {
    "application/vnd.databricks.v1+cell": {
     "cellMetadata": {},
     "inputWidgets": {},
     "nuid": "392e4ff4-20c3-4187-94f0-6d5ec581f0d9",
     "showTitle": false,
     "title": ""
    }
   },
   "outputs": [],
   "source": [
    "#RandomForestRegressor - Inventory Prediction\n",
    "cat_cols = [\"Category\", \"StoreID\", \"SupplierID\", \"LocationID\", \"Region\", \"State\", \"Zip\", \"ProductName\"]\n",
    "stages = []\n",
    "\n",
    "for c in cat_cols:\n",
    "\tstringIndexer = StringIndexer(inputCol=c, outputCol=c + \"_index\")\n",
    "\tencoder = OneHotEncoder(inputCols=[stringIndexer.getOutputCol()],outputCols=[c + \"_vec\"])\n",
    "\tstages += [stringIndexer, encoder]\n",
    "\n",
    "\n",
    "# Transform all features into a vector\n",
    "num_cols = [\"Costs\", \"ProductionVolumes\"]\n",
    "assemblerInputs = [c + \"_vec\" for c in cat_cols] + num_cols\n",
    "assembler = VectorAssembler(inputCols=assemblerInputs, outputCol=\"features\")\n",
    "stages += [assembler]\n",
    "\n",
    "# Create pipeline and use on dataset\n",
    "pipeline = Pipeline(stages=stages)\n",
    "enrichedSupplyChain3 = pipeline.fit(enrichedSupplyChain1).transform(enrichedSupplyChain1)\n",
    "\n",
    "train, test = enrichedSupplyChain3.randomSplit([0.80, 0.20], seed=12345)\n",
    "\n",
    "rf = RandomForestRegressor(featuresCol='features', labelCol='NumberOfProductsSold')\n",
    "rf_model = rf.fit(train)\n",
    "\n",
    "train_predictions = rf_model.transform(train)\n",
    "test_preds = rf_model.transform(test)\n",
    "print(test_preds)\n",
    "\n",
    "\n",
    "test_preds.write.mode(\"overwrite\").parquet(\"dbfs:/FileStore/tables/RandomForestRegressorInventory_tests_preds.parquet\")\n",
    "\n",
    "def extract_feature_imp(feature_imp, dataset, features_col):\n",
    "    list_extract = []\n",
    "    for i in dataset.schema[features_col].metadata[\"ml_attr\"][\"attrs\"]:\n",
    "        list_extract = list_extract + dataset.schema[features_col].metadata[\"ml_attr\"][\"attrs\"][i]\n",
    "    feature_list = pd.DataFrame(list_extract)\n",
    "    feature_list['score'] = feature_list['idx'].apply(lambda x: feature_imp[x])\n",
    "    return(feature_list.sort_values('score', ascending = False))\n",
    "\n",
    "\n",
    "feature_list = extract_feature_imp(rf_model.featureImportances, train, \"features\")\n",
    "top_20_features = feature_list.sort_values('score', ascending = False).head(20)\n",
    "top_20_features.to_csv('/dbfs/FileStore/tables/RandomForestRegressorInventory_Top20Features.csv', index=False)\n",
    "\n",
    "evaluator1 = RegressionEvaluator(predictionCol=\"prediction\",  labelCol='NumberOfProductsSold', metricName=\"r2\")\n",
    "print(\"Train R2:\", evaluator1.evaluate(train_predictions))\n",
    "print(\"Test R2:\", evaluator1.evaluate(test_preds))\n",
    "\n",
    "\n",
    "evaluator2 = RegressionEvaluator(predictionCol=\"prediction\",  labelCol='NumberOfProductsSold', metricName=\"mae\")\n",
    "print(\"Train mae:\", evaluator2.evaluate(train_predictions))\n",
    "print(\"Test mae:\", evaluator2.evaluate(test_preds))\n",
    "\n",
    "\n",
    "evaluator3 = RegressionEvaluator(predictionCol=\"prediction\",  labelCol='NumberOfProductsSold', metricName=\"rmse\")\n",
    "print(\"Train RMSE:\", evaluator3.evaluate(train_predictions))\n",
    "print(\"Test RMSE:\", evaluator3.evaluate(test_preds))\n"
   ]
  }
 ],
 "metadata": {
  "application/vnd.databricks.v1+notebook": {
   "dashboards": [],
   "environmentMetadata": null,
   "language": "python",
   "notebookMetadata": {},
   "notebookName": "RandomForestRegressorInventory",
   "widgets": {}
  }
 },
 "nbformat": 4,
 "nbformat_minor": 0
}
