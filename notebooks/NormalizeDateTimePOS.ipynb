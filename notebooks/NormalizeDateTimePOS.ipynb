{
 "cells": [
  {
   "cell_type": "code",
   "execution_count": 0,
   "metadata": {
    "application/vnd.databricks.v1+cell": {
     "cellMetadata": {},
     "inputWidgets": {},
     "nuid": "cf95949b-d84c-4595-9bf5-160e1d7d0346",
     "showTitle": false,
     "title": ""
    }
   },
   "outputs": [],
   "source": [
    "%run ./AllImports\n"
   ]
  },
  {
   "cell_type": "code",
   "execution_count": 0,
   "metadata": {
    "application/vnd.databricks.v1+cell": {
     "cellMetadata": {},
     "inputWidgets": {},
     "nuid": "282d0286-e799-4a42-925e-0b2d3d852c7a",
     "showTitle": false,
     "title": ""
    }
   },
   "outputs": [],
   "source": [
    "%run ./SetupUtilFunctions"
   ]
  },
  {
   "cell_type": "code",
   "execution_count": 0,
   "metadata": {
    "application/vnd.databricks.v1+cell": {
     "cellMetadata": {},
     "inputWidgets": {},
     "nuid": "bee09897-1295-4a33-80f5-7d63f5510b48",
     "showTitle": false,
     "title": ""
    }
   },
   "outputs": [],
   "source": [
    "%run ./RemoveDuplicateRowsPOS"
   ]
  },
  {
   "cell_type": "code",
   "execution_count": 0,
   "metadata": {
    "application/vnd.databricks.v1+cell": {
     "cellMetadata": {},
     "inputWidgets": {},
     "nuid": "9ddd19c4-d20d-4c6f-aec9-e4f1b5774a39",
     "showTitle": false,
     "title": ""
    }
   },
   "outputs": [],
   "source": [
    "#Normalize Date & Time\n",
    "temp11 = df111.select(\"*\").withColumn ( 'dateInFormat', F.concat ( F.split('Date', '-')[0], F.lit('-'), F.split('Date', '-')[1], F.lit('-'),F.split('Date', '-')[2] ) ) . withColumn('Day', (F.split('Date', '-')[2]).cast('int')).withColumn('Year', F.split(col('Date'), '-')[0]). withColumn('Month', F.split('Date', '-')[1])\n",
    "temp12 = temp11.select(\"*\").withColumn('Qtr', getQtr( col('Month').cast('int'))).withColumn('Mon', getMonth( col('Month').cast('int')))\n",
    "temp13 = temp12.select(\"*\").withColumn('T', (F.split('Time', ' ')[1]))\n",
    "temp14 = temp13.select(\"*\").withColumn('H', (F.split('T', ':')[0]).cast('int'))\n",
    "temp15 = temp14.select(\"*\").withColumn('HourOfDay', getTimeOfDay(col('H').cast('int')))\n",
    "temp16 = temp15.select(\"*\").withColumn('DayOfWeek', F.date_format('dateInFormat', 'E'))\n",
    "df1111 = temp16"
   ]
  },
  {
   "cell_type": "code",
   "execution_count": 0,
   "metadata": {
    "application/vnd.databricks.v1+cell": {
     "cellMetadata": {},
     "inputWidgets": {},
     "nuid": "805e5105-3c41-4096-b7b5-c7795aaef6f2",
     "showTitle": false,
     "title": ""
    }
   },
   "outputs": [],
   "source": [
    "temp16.show(100)"
   ]
  }
 ],
 "metadata": {
  "application/vnd.databricks.v1+notebook": {
   "dashboards": [],
   "environmentMetadata": null,
   "language": "python",
   "notebookMetadata": {},
   "notebookName": "NormalizeDateTimePOS",
   "widgets": {}
  }
 },
 "nbformat": 4,
 "nbformat_minor": 0
}
