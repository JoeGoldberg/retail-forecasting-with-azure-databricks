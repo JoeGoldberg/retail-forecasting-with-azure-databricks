{
 "cells": [
  {
   "cell_type": "code",
   "execution_count": 0,
   "metadata": {
    "application/vnd.databricks.v1+cell": {
     "cellMetadata": {},
     "inputWidgets": {},
     "nuid": "66761f50-7df0-4f1b-8ee4-ae3249c07c72",
     "showTitle": false,
     "title": ""
    }
   },
   "outputs": [],
   "source": [
    "%run ./RemoveDuplicateRowsSupplyChain"
   ]
  },
  {
   "cell_type": "code",
   "execution_count": 0,
   "metadata": {
    "application/vnd.databricks.v1+cell": {
     "cellMetadata": {},
     "inputWidgets": {},
     "nuid": "a37ea4d5-fa7c-43c7-b3f7-16f2eafe349f",
     "showTitle": false,
     "title": ""
    }
   },
   "outputs": [],
   "source": [
    "%run ./RemoveDuplicateRowsLocation"
   ]
  },
  {
   "cell_type": "code",
   "execution_count": 0,
   "metadata": {
    "application/vnd.databricks.v1+cell": {
     "cellMetadata": {},
     "inputWidgets": {},
     "nuid": "4ce4d21b-2067-46ec-a89b-717a7ca07706",
     "showTitle": false,
     "title": ""
    }
   },
   "outputs": [],
   "source": [
    "%run ./RemoveDuplicateRowsProduct"
   ]
  },
  {
   "cell_type": "code",
   "execution_count": 0,
   "metadata": {
    "application/vnd.databricks.v1+cell": {
     "cellMetadata": {},
     "inputWidgets": {},
     "nuid": "9aa79fb4-a6cd-48c2-9bbf-32788c44b9e7",
     "showTitle": false,
     "title": ""
    }
   },
   "outputs": [],
   "source": [
    "\n",
    "#Enrich SupplyChain\n",
    "enrichedSupplyChain = df333.join(df666, [\"LocationID\"], \"inner\")\n",
    "enrichedSupplyChain1 = enrichedSupplyChain.join(df444, [\"SKU\"], \"inner\").drop(df4[\"Category\"])"
   ]
  }
 ],
 "metadata": {
  "application/vnd.databricks.v1+notebook": {
   "dashboards": [],
   "environmentMetadata": null,
   "language": "python",
   "notebookMetadata": {},
   "notebookName": "EnrichSupplyChain",
   "widgets": {}
  }
 },
 "nbformat": 4,
 "nbformat_minor": 0
}
