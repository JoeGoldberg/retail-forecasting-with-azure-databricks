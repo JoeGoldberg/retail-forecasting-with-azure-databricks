{
 "cells": [
  {
   "cell_type": "code",
   "execution_count": 0,
   "metadata": {
    "application/vnd.databricks.v1+cell": {
     "cellMetadata": {},
     "inputWidgets": {},
     "nuid": "11ec0a65-1c55-45e3-9f9b-64867db033f3",
     "showTitle": false,
     "title": ""
    }
   },
   "outputs": [],
   "source": [
    "# Import the necessary modules \n",
    "import matplotlib.pyplot as plt \n",
    "import pandas as pd \n",
    "import seaborn as sns\n",
    "\n",
    "plt.figure(figsize=(10,8))  \n",
    "# Initialize the lists for X and Y \n",
    "data = pd.read_csv('/dbfs/FileStore/tables/LinearRegressionInventory_Weights.csv') \n",
    "  \n",
    "df = pd.DataFrame(data) \n",
    " \n",
    "Y = list(df.iloc[:, 1]) \n",
    "X = list(df.iloc[:, 2]) \n",
    "  \n",
    "# Plot the data using bar() method \n",
    "#plt.bar(X, Y, color='g') \n",
    "plt.barh(Y, X, color='g') \n",
    "#plt.title(\"Linerar Regression Inventory Feature Weight\") \n",
    "plt.xlabel(\"Weight\") \n",
    "plt.ylabel(\"Features\") \n",
    "\n",
    "sns.barplot(y=Y,x=X).set(title='Linear Regression Inventory Feature Weight')\n",
    "# Show the plot \n",
    "plt.show() \n"
   ]
  },
  {
   "cell_type": "code",
   "execution_count": 0,
   "metadata": {
    "application/vnd.databricks.v1+cell": {
     "cellMetadata": {},
     "inputWidgets": {},
     "nuid": "bd9f4a25-15b1-4ea0-9495-492d59956ed5",
     "showTitle": false,
     "title": ""
    }
   },
   "outputs": [],
   "source": [
    "import numpy as np, pandas as pd\n",
    "import matplotlib.pyplot as plt\n",
    "import seaborn as sns\n",
    "\n",
    "\n",
    "plt.figure(figsize=(10,8))\n",
    "data = pd.read_csv('/dbfs/FileStore/tables/LinearRegressionPOS_Weights.csv')\n",
    "data1 = data.loc[data[\"name\"] != \"Quantity\"]\n",
    "#display(data)\n",
    "  \n",
    "df = pd.DataFrame(data1) \n",
    "  \n",
    "Y = list(df.iloc[:, 1]) \n",
    "X = list(df.iloc[:, 2]) \n",
    "plt.xlabel(\"Weight\") \n",
    "plt.ylabel(\"Features\")\n",
    "sns.barplot(y=Y,x=X).set(title='Linear Regression POS Feature Weight')\n",
    "plt.show()"
   ]
  },
  {
   "cell_type": "code",
   "execution_count": 0,
   "metadata": {
    "application/vnd.databricks.v1+cell": {
     "cellMetadata": {},
     "inputWidgets": {},
     "nuid": "c1defa36-b312-4c35-924c-c2c76f38d344",
     "showTitle": false,
     "title": ""
    }
   },
   "outputs": [],
   "source": [
    "# Import the necessary modules \n",
    "import matplotlib.pyplot as plt \n",
    "import pandas as pd \n",
    "import seaborn as sns \n",
    "\n",
    "plt.figure(figsize=(10,8))\n",
    "# Initialize the lists for X and Y \n",
    "data = pd.read_csv('/dbfs/FileStore/tables/RandomForestRegressorInventory_Top20Features.csv') \n",
    "  \n",
    "df = pd.DataFrame(data) \n",
    "  \n",
    "Y = list(df.iloc[:, 1]) \n",
    "X = list(df.iloc[:, 2]) \n",
    "  \n",
    "# Plot the data using bar() method \n",
    "#plt.bar(X, Y, color='g') \n",
    "#plt.barh(Y, X, color='g') \n",
    "#plt.title(\"Random Forest Inventory Top 20 by Importance\") \n",
    "plt.xlabel(\"Weight\") \n",
    "plt.ylabel(\"Features\") \n",
    "\n",
    "sns.barplot(y=Y,x=X).set(title='Random Forest Inventory Top 20 Features by Importance')  \n",
    "# Show the plot \n",
    "plt.show() \n"
   ]
  },
  {
   "cell_type": "code",
   "execution_count": 0,
   "metadata": {
    "application/vnd.databricks.v1+cell": {
     "cellMetadata": {},
     "inputWidgets": {},
     "nuid": "d4480fea-7dab-4a03-90bf-49c14b7c8fde",
     "showTitle": false,
     "title": ""
    }
   },
   "outputs": [],
   "source": [
    "# Import the necessary modules \n",
    "import matplotlib.pyplot as plt \n",
    "import pandas as pd \n",
    "import seaborn as sns \n",
    "\n",
    "plt.figure(figsize=(10,8))\n",
    "\n",
    "# Initialize the lists for X and Y \n",
    "data = pd.read_csv('/dbfs/FileStore/tables/RandomForestRegressorPOS_Top20Features.csv') \n",
    "  \n",
    "df = pd.DataFrame(data) \n",
    "  \n",
    "Y = list(df.iloc[:, 1]) \n",
    "X = list(df.iloc[:, 2]) \n",
    "  \n",
    "# Plot the data using bar() method \n",
    "#plt.bar(X, Y, color='g') \n",
    "#plt.barh(Y, X, color='g') \n",
    "#plt.title(\"Random Forest POS Feature Top 20 by Importance\") \n",
    "plt.xlabel(\"Weight\") \n",
    "plt.ylabel(\"Features\") \n",
    "\n",
    "sns.barplot(y=Y,x=X).set(title='Random Forest POS Top 20 Features by Importance')  \n",
    "\n",
    "# Show the plot \n",
    "plt.show() "
   ]
  }
 ],
 "metadata": {
  "application/vnd.databricks.v1+notebook": {
   "dashboards": [],
   "environmentMetadata": null,
   "language": "python",
   "notebookMetadata": {
    "pythonIndentUnit": 4
   },
   "notebookName": "All Visuals",
   "widgets": {}
  }
 },
 "nbformat": 4,
 "nbformat_minor": 0
}
