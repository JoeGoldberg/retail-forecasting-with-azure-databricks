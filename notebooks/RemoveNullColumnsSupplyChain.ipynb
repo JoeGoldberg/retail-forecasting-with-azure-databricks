{
 "cells": [
  {
   "cell_type": "code",
   "execution_count": 0,
   "metadata": {
    "application/vnd.databricks.v1+cell": {
     "cellMetadata": {},
     "inputWidgets": {},
     "nuid": "b5c0669d-2102-4362-8033-324ed450882f",
     "showTitle": false,
     "title": ""
    }
   },
   "outputs": [],
   "source": [
    "%run ./LoadSupplyChain"
   ]
  },
  {
   "cell_type": "code",
   "execution_count": 0,
   "metadata": {
    "application/vnd.databricks.v1+cell": {
     "cellMetadata": {},
     "inputWidgets": {},
     "nuid": "761ece78-2689-400f-9fa1-9d1761f39a9e",
     "showTitle": false,
     "title": ""
    }
   },
   "outputs": [],
   "source": [
    "# Remove Rows with Null Values in Certain Columns\n",
    "df33 = df3.na.drop(subset=[\"SKU\", \"StoreID\", \"SupplierID\", \"LocationID\"])"
   ]
  }
 ],
 "metadata": {
  "application/vnd.databricks.v1+notebook": {
   "dashboards": [],
   "environmentMetadata": null,
   "language": "python",
   "notebookMetadata": {
    "pythonIndentUnit": 4
   },
   "notebookName": "RemoveNullColumnsSupplyChain",
   "widgets": {}
  }
 },
 "nbformat": 4,
 "nbformat_minor": 0
}
