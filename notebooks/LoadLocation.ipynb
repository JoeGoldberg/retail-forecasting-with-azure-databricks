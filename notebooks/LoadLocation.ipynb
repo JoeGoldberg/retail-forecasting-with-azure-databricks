{
 "cells": [
  {
   "cell_type": "code",
   "execution_count": 0,
   "metadata": {
    "application/vnd.databricks.v1+cell": {
     "cellMetadata": {},
     "inputWidgets": {},
     "nuid": "e1a75a66-e53e-4d4c-a4c9-a03cf6cbb325",
     "showTitle": false,
     "title": ""
    }
   },
   "outputs": [],
   "source": [
    "df6=spark.read.format(\"csv\").option(\"header\", \"true\").option(\"inferSchema\", \"true\").load(\"dbfs:/FileStore/tables/Location.csv\")"
   ]
  }
 ],
 "metadata": {
  "application/vnd.databricks.v1+notebook": {
   "dashboards": [],
   "environmentMetadata": null,
   "language": "python",
   "notebookMetadata": {},
   "notebookName": "LoadLocation",
   "widgets": {}
  }
 },
 "nbformat": 4,
 "nbformat_minor": 0
}
