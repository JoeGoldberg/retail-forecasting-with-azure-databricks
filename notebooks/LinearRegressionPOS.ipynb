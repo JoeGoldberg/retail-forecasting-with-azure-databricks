{
 "cells": [
  {
   "cell_type": "code",
   "execution_count": 0,
   "metadata": {
    "application/vnd.databricks.v1+cell": {
     "cellMetadata": {},
     "inputWidgets": {},
     "nuid": "042e291c-ecfa-4f67-8160-729754796be7",
     "showTitle": false,
     "title": ""
    }
   },
   "outputs": [],
   "source": [
    "%run ./AllImports"
   ]
  },
  {
   "cell_type": "code",
   "execution_count": 0,
   "metadata": {
    "application/vnd.databricks.v1+cell": {
     "cellMetadata": {},
     "inputWidgets": {},
     "nuid": "8100769c-78e5-42cc-9de7-7bbc2c21a35a",
     "showTitle": false,
     "title": ""
    }
   },
   "outputs": [],
   "source": [
    "%run ./EnrichPOSData"
   ]
  },
  {
   "cell_type": "code",
   "execution_count": 0,
   "metadata": {
    "application/vnd.databricks.v1+cell": {
     "cellMetadata": {},
     "inputWidgets": {},
     "nuid": "ff171ffd-1f5b-466f-af74-2b42bfdd6457",
     "showTitle": false,
     "title": ""
    }
   },
   "outputs": [],
   "source": [
    "#Linear Regression POS\n",
    "cat_cols = [\"SKU\", \"Category\", \"StoreID\", \"Year\", \"Mon\", \"Qtr\", \"HourOfDay\", \"DayOfWeek\", \"Location\", \"Region\", \"State\", \"Zip\"]\n",
    "stages = []\n",
    "\n",
    "for c in cat_cols:\n",
    "\tstringIndexer = StringIndexer(inputCol=c, outputCol=c + \"_index\")\n",
    "\tencoder = OneHotEncoder(inputCols=[stringIndexer.getOutputCol()],outputCols=[c + \"_vec\"])\n",
    "\tstages += [stringIndexer, encoder]\n",
    "\n",
    "\n",
    "# Transform all features into a vector\n",
    "num_cols = [\"Quantity\"]\n",
    "assemblerInputs = [c + \"_vec\" for c in cat_cols] + num_cols\n",
    "assembler = VectorAssembler(inputCols=assemblerInputs, outputCol=\"features\")\n",
    "stages += [assembler]\n",
    "\n",
    "# Create pipeline and use on dataset\n",
    "pipeline = Pipeline(stages=stages)\n",
    "df3_x = pipeline.fit(enrichedPOSStep2).transform(enrichedPOSStep2)\n",
    "\n",
    "train, test = df3_x.randomSplit([0.90, 0.10], seed=1234567)\n",
    "\n",
    "# Fit scaler to train dataset\n",
    "scaler = StandardScaler().setInputCol('features').setOutputCol('scaled_features')\n",
    "scaler_model = scaler.fit(train)\n",
    "\n",
    "# Scale train and test features\n",
    "train = scaler_model.transform(train)\n",
    "test = scaler_model.transform(test)\n",
    "\n",
    "\n",
    "lr = LinearRegression(featuresCol='scaled_features', labelCol='Quantity')\n",
    "lr_model = lr.fit(train)\n",
    "\n",
    "train_predictions = lr_model.transform(train)\n",
    "test_predictions = lr_model.transform(test)\n",
    "print(test_predictions)\n",
    "\n",
    "evaluator = RegressionEvaluator(predictionCol=\"prediction\", labelCol=\"Quantity\", metricName=\"r2\")\n",
    "print(\"Train R2:\", evaluator.evaluate(train_predictions))\n",
    "print(\"Test R2:\", evaluator.evaluate(test_predictions))\n",
    "print(\"Coefficients: \" + str(lr_model.coefficients))\n",
    "print(\"Intercept: \" + str(lr_model.intercept))\n",
    "\n",
    "\n",
    "evaluator = RegressionEvaluator(predictionCol=\"prediction\", labelCol=\"Quantity\", metricName=\"mae\")\n",
    "print(\"Train MAE:\", evaluator.evaluate(train_predictions))\n",
    "print(\"Test MAE:\", evaluator.evaluate(test_predictions))\n",
    "print(\"Coefficients: \" + str(lr_model.coefficients))\n",
    "print(\"Intercept: \" + str(lr_model.intercept))\n",
    "\n",
    "list_extract = []\n",
    "for i in df3_x.schema['features'].metadata[\"ml_attr\"][\"attrs\"]:\n",
    "    list_extract = list_extract + df3_x.schema['features'].metadata[\"ml_attr\"][\"attrs\"][i]\n",
    "\n",
    "varlist = pd.DataFrame(list_extract)\n",
    "varlist['weight'] = varlist['idx'].apply(lambda x: lr_model.coefficients[x])\n",
    "weights = varlist.sort_values('weight', ascending = False)\n",
    "\n",
    "weights.to_csv('/dbfs/FileStore/tables/LinearRegressionPOS_Weights.csv', index=False)"
   ]
  }
 ],
 "metadata": {
  "application/vnd.databricks.v1+notebook": {
   "dashboards": [],
   "environmentMetadata": null,
   "language": "python",
   "notebookMetadata": {},
   "notebookName": "LinearRegressionPOS",
   "widgets": {}
  }
 },
 "nbformat": 4,
 "nbformat_minor": 0
}
